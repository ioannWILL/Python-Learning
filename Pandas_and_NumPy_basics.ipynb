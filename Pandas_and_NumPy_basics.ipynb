{
  "nbformat": 4,
  "nbformat_minor": 0,
  "metadata": {
    "colab": {
      "provenance": []
    },
    "kernelspec": {
      "name": "python3",
      "display_name": "Python 3"
    },
    "language_info": {
      "name": "python"
    }
  },
  "cells": [
    {
      "cell_type": "markdown",
      "source": [
        "# NumPy"
      ],
      "metadata": {
        "id": "b9xxWtFo_Dh3"
      }
    },
    {
      "cell_type": "code",
      "source": [
        "!pip3 install numpy"
      ],
      "metadata": {
        "id": "SnDZTqw6Oa78"
      },
      "execution_count": null,
      "outputs": []
    },
    {
      "cell_type": "code",
      "source": [
        "import math\n",
        "print(math.sqrt(16))# Виведе 4.0"
      ],
      "metadata": {
        "id": "fhkQExdpOmWf"
      },
      "execution_count": null,
      "outputs": []
    },
    {
      "cell_type": "code",
      "source": [
        "sqrt(16)"
      ],
      "metadata": {
        "id": "BCnE9xobOmZt"
      },
      "execution_count": null,
      "outputs": []
    },
    {
      "cell_type": "code",
      "source": [
        "from math import sqrt\n",
        "\n",
        "sqrt(16)"
      ],
      "metadata": {
        "id": "WIB42T4dOqng"
      },
      "execution_count": null,
      "outputs": []
    },
    {
      "cell_type": "code",
      "execution_count": 2,
      "metadata": {
        "id": "LWSMdt3z-ylA"
      },
      "outputs": [],
      "source": [
        "import numpy as np"
      ]
    },
    {
      "cell_type": "markdown",
      "source": [
        "Створення одномірних, двомірних і багатовимірних масивів:"
      ],
      "metadata": {
        "id": "UQODSGnW_BQ2"
      }
    },
    {
      "cell_type": "code",
      "source": [
        "# Одномірний масив\n",
        "arr_1d = np.array([1, 2, 3, 4, 5])\n",
        "\n",
        "# Виведення масивів\n",
        "print(\"Одномірний масив:\", arr_1d)"
      ],
      "metadata": {
        "id": "lsCxJyZ5_B2M"
      },
      "execution_count": null,
      "outputs": []
    },
    {
      "cell_type": "code",
      "source": [
        "# Одномірний масив із вказаним типом даних\n",
        "arr_1d = np.array([1, 2, 3, 4, 5], dtype = float)\n",
        "\n",
        "# Виведення масивів\n",
        "print(\"Одномірний масив:\", arr_1d)"
      ],
      "metadata": {
        "id": "yxWNps5IQNQ1"
      },
      "execution_count": null,
      "outputs": []
    },
    {
      "cell_type": "code",
      "source": [
        "# Двомірний масив\n",
        "arr_2d = np.array([[1, 2, 3], [4, 5, 6]])\n",
        "\n",
        "# Виведення масивів\n",
        "print(\"Двомірний масив:\\n\", arr_2d)\n"
      ],
      "metadata": {
        "id": "EMp9lsx-_LTL"
      },
      "execution_count": null,
      "outputs": []
    },
    {
      "cell_type": "code",
      "source": [
        "# Багатовимірний масив\n",
        "arr_3d = np.array([[[1, 2], [3, 4]], [[5, 6], [7, 8]]])\n",
        "\n",
        "# Виведення масивів\n",
        "print(\"Багатовимірний масив:\\n\", arr_3d)"
      ],
      "metadata": {
        "colab": {
          "base_uri": "https://localhost:8080/"
        },
        "id": "udtuLDsp_TNs",
        "outputId": "6a1aebf5-5398-45d0-a141-744f8408e70c"
      },
      "execution_count": 3,
      "outputs": [
        {
          "output_type": "stream",
          "name": "stdout",
          "text": [
            "Багатовимірний масив:\n",
            " [[[1 2]\n",
            "  [3 4]]\n",
            "\n",
            " [[5 6]\n",
            "  [7 8]]]\n"
          ]
        }
      ]
    },
    {
      "cell_type": "markdown",
      "source": [
        "Як отримати інформацію про форму, розмір та тип даних масиву:"
      ],
      "metadata": {
        "id": "jkQzRPOFCIwu"
      }
    },
    {
      "cell_type": "code",
      "source": [
        "print(\"Форма масиву (shape):\", arr_2d.shape)"
      ],
      "metadata": {
        "id": "Y7QKLD0pCDDv"
      },
      "execution_count": null,
      "outputs": []
    },
    {
      "cell_type": "code",
      "source": [
        "print(\"Розмір масиву (size):\", arr_2d.size)"
      ],
      "metadata": {
        "id": "vcahZQ4-CKFn"
      },
      "execution_count": null,
      "outputs": []
    },
    {
      "cell_type": "code",
      "source": [
        "print(\"Тип даних масиву (dtype):\", arr_2d.dtype)"
      ],
      "metadata": {
        "id": "9vFjVLmzCKIP"
      },
      "execution_count": null,
      "outputs": []
    },
    {
      "cell_type": "code",
      "source": [
        "# створення масиву одиниць\n",
        "m = np.ones((2, 3), dtype=int)\n",
        "print(m)"
      ],
      "metadata": {
        "id": "2TUHFzlCP2TB"
      },
      "execution_count": null,
      "outputs": []
    },
    {
      "cell_type": "code",
      "source": [
        "# створення масиву нулів\n",
        "m = np.zeros((2, 3), dtype=int)\n",
        "print(m)"
      ],
      "metadata": {
        "id": "2g-uEZ--P2WB"
      },
      "execution_count": null,
      "outputs": []
    },
    {
      "cell_type": "code",
      "source": [
        "# створення одиничної матриці\n",
        "m = np.identity(4, dtype=int)\n",
        "print(m)"
      ],
      "metadata": {
        "id": "VfXMDCxlP2ZA"
      },
      "execution_count": null,
      "outputs": []
    },
    {
      "cell_type": "code",
      "source": [
        "# створення масиву з послідовності чисел\n",
        "a = np.arange(5)\n",
        "b = np.arange(1, 3, 0.5) # обовʼязковим є лише кінець діапазону\n",
        "print(a)\n",
        "print(b)"
      ],
      "metadata": {
        "id": "_9-BOvFCP2bs"
      },
      "execution_count": null,
      "outputs": []
    },
    {
      "cell_type": "code",
      "source": [
        "# включення останнього елемента діапазону\n",
        "a = np.linspace(1, 5, num=5)\n",
        "b = np.linspace(1, 3, num=3)\n",
        "print(a)\n",
        "print(b)"
      ],
      "metadata": {
        "id": "ZhKDJXkNP2ek"
      },
      "execution_count": null,
      "outputs": []
    },
    {
      "cell_type": "code",
      "source": [
        "# створення матриць з випадковими числами\n",
        "a = np.random.random(3)\n",
        "b = np.random.random((3, 3))\n",
        "print(a)\n",
        "print(b)"
      ],
      "metadata": {
        "id": "hU1TXnsPP2hc"
      },
      "execution_count": null,
      "outputs": []
    },
    {
      "cell_type": "markdown",
      "source": [
        "Як звертатись до окремих елементів масиву за індексами:"
      ],
      "metadata": {
        "id": "iz2tnNscCa6k"
      }
    },
    {
      "cell_type": "code",
      "source": [
        "arr_1d"
      ],
      "metadata": {
        "id": "aC72SSw3RbQD"
      },
      "execution_count": null,
      "outputs": []
    },
    {
      "cell_type": "code",
      "source": [
        "# Доступ до елементів одномірного масиву\n",
        "print(\"Перший елемент:\", arr_1d[0])"
      ],
      "metadata": {
        "id": "jMfFrxZPCKLC"
      },
      "execution_count": null,
      "outputs": []
    },
    {
      "cell_type": "code",
      "source": [
        "# отримання зрізу даних (слайсінг)\n",
        "print(\"Елементи починаючи з другого елемента:\", arr_1d[1:])"
      ],
      "metadata": {
        "id": "VywsD08URgcj"
      },
      "execution_count": null,
      "outputs": []
    },
    {
      "cell_type": "code",
      "source": [
        "# отримання зрізу даних (слайсінг)\n",
        "print(\"Елементи до третього елемента:\", arr_1d[:2])"
      ],
      "metadata": {
        "id": "pfd-qol5RgfM"
      },
      "execution_count": null,
      "outputs": []
    },
    {
      "cell_type": "code",
      "source": [
        "arr_2d"
      ],
      "metadata": {
        "id": "nOB--i0FRgiD"
      },
      "execution_count": null,
      "outputs": []
    },
    {
      "cell_type": "code",
      "source": [
        "# Доступ до елементів двомірного масиву\n",
        "print(\"Елемент [1, 2] у двомірному масиві:\", arr_2d[1, 2])"
      ],
      "metadata": {
        "id": "3Og2j5AYCKNt"
      },
      "execution_count": null,
      "outputs": []
    },
    {
      "cell_type": "code",
      "source": [
        "print(arr_2d[0:, 1])\n",
        "print(arr_2d[0, :2])"
      ],
      "metadata": {
        "id": "J1TA8wWHSElE"
      },
      "execution_count": null,
      "outputs": []
    },
    {
      "cell_type": "code",
      "source": [
        "# Зміна значення елемента\n",
        "arr_1d[0] = 10\n",
        "print(\"Змінений масив:\", arr_1d)"
      ],
      "metadata": {
        "id": "BF7lbBqWCKQD"
      },
      "execution_count": null,
      "outputs": []
    },
    {
      "cell_type": "markdown",
      "source": [
        "Виконання базових математичних операцій між масивами:\n"
      ],
      "metadata": {
        "id": "AUAqQZa5CybX"
      }
    },
    {
      "cell_type": "code",
      "source": [
        "# Створення двох масивів\n",
        "arr_a = np.array([1, 2, 3])\n",
        "arr_b = np.array([4, 5, 6])"
      ],
      "metadata": {
        "id": "8uB9wwW6Cvvk"
      },
      "execution_count": null,
      "outputs": []
    },
    {
      "cell_type": "code",
      "source": [
        "# Додавання\n",
        "print(\"Додавання:\", np.add(arr_a, arr_b))"
      ],
      "metadata": {
        "id": "cCI520m_CvyR"
      },
      "execution_count": null,
      "outputs": []
    },
    {
      "cell_type": "code",
      "source": [
        "# Віднімання\n",
        "print(\"Віднімання:\", np.subtract(arr_a, arr_b))"
      ],
      "metadata": {
        "id": "XlUjmQ3_Cv1J"
      },
      "execution_count": null,
      "outputs": []
    },
    {
      "cell_type": "code",
      "source": [
        "# Множення\n",
        "print(\"Множення:\", np.multiply(arr_a, arr_b))"
      ],
      "metadata": {
        "id": "FJgIXaHpCv3f"
      },
      "execution_count": null,
      "outputs": []
    },
    {
      "cell_type": "code",
      "source": [
        "# Ділення\n",
        "print(\"Ділення:\", np.divide(arr_a, arr_b))"
      ],
      "metadata": {
        "id": "kLBpkqaOCv6W"
      },
      "execution_count": null,
      "outputs": []
    },
    {
      "cell_type": "markdown",
      "source": [
        "Статистичні функції: sqrt(), abs(), min(), max()"
      ],
      "metadata": {
        "id": "M-OV8zoJCv9f"
      }
    },
    {
      "cell_type": "code",
      "source": [
        "# Квадратний корінь кожного елемента\n",
        "print(\"Квадратний корінь:\", np.sqrt(arr_a))"
      ],
      "metadata": {
        "id": "kKchBp-FCKT4"
      },
      "execution_count": null,
      "outputs": []
    },
    {
      "cell_type": "code",
      "source": [
        "# Модуль (абсолютне значення)\n",
        "arr_neg = np.array([-1, -2, -3])\n",
        "print(\"Абсолютне значення:\", np.abs(arr_neg))"
      ],
      "metadata": {
        "id": "pr-bRCTIDNUX"
      },
      "execution_count": null,
      "outputs": []
    },
    {
      "cell_type": "code",
      "source": [
        "# Мінімальне та максимальне значення\n",
        "print(\"Мінімум:\", np.min(arr_b))\n",
        "print(\"Максимум:\", np.max(arr_b))"
      ],
      "metadata": {
        "id": "RIli40crDNXJ"
      },
      "execution_count": null,
      "outputs": []
    },
    {
      "cell_type": "markdown",
      "source": [
        "Як сортувати елементи в масиві:"
      ],
      "metadata": {
        "id": "M8b04POlDNaG"
      }
    },
    {
      "cell_type": "code",
      "source": [
        "arr_unsorted = np.array([3, 1, 2, 5, 4])\n",
        "\n",
        "# Сортування\n",
        "print(\"Сортований масив:\", np.sort(arr_unsorted))"
      ],
      "metadata": {
        "id": "7skGMYbXDNcn"
      },
      "execution_count": null,
      "outputs": []
    },
    {
      "cell_type": "markdown",
      "source": [
        "# Робота з Pandas"
      ],
      "metadata": {
        "id": "9td9Vj-6DNfT"
      }
    },
    {
      "cell_type": "code",
      "source": [
        "import pandas as pd"
      ],
      "metadata": {
        "id": "mibJ8Hv5DNiB"
      },
      "execution_count": null,
      "outputs": []
    },
    {
      "cell_type": "markdown",
      "source": [
        "Що таке Series і як створювати Series у Pandas за допомогою конструктора:\n"
      ],
      "metadata": {
        "id": "QyUZSXPjDsZW"
      }
    },
    {
      "cell_type": "code",
      "source": [
        "# Створення Series зі списку\n",
        "series_1 = pd.Series([10, 20, 30, 40])\n",
        "series_1"
      ],
      "metadata": {
        "id": "ARCtYE4ZDj7C"
      },
      "execution_count": null,
      "outputs": []
    },
    {
      "cell_type": "code",
      "source": [
        "# Створення Series зі списку з індексами\n",
        "series_2 = pd.Series([100, 200, 300], index=['a', 'b', 'c'])\n",
        "series_2"
      ],
      "metadata": {
        "id": "CIAUW6N1Dj9m"
      },
      "execution_count": null,
      "outputs": []
    },
    {
      "cell_type": "code",
      "source": [
        "# Створення Series з використанням словника\n",
        "series_3 = pd.Series({'a': 3, 'c': 2, 'b': 1})\n",
        "series_3"
      ],
      "metadata": {
        "id": "vhMKmNIZDkAB"
      },
      "execution_count": null,
      "outputs": []
    },
    {
      "cell_type": "markdown",
      "source": [
        "Сортування Series за індексами та значеннями"
      ],
      "metadata": {
        "id": "2W-EO2BsVL-d"
      }
    },
    {
      "cell_type": "code",
      "source": [
        "series_3.sort_index()"
      ],
      "metadata": {
        "id": "dynmqRWaVR69"
      },
      "execution_count": null,
      "outputs": []
    },
    {
      "cell_type": "code",
      "source": [
        "series_3.sort_values()"
      ],
      "metadata": {
        "id": "VzObu-YXVSSi"
      },
      "execution_count": null,
      "outputs": []
    },
    {
      "cell_type": "code",
      "source": [
        "series_3"
      ],
      "metadata": {
        "id": "p_M4mIaBVypC"
      },
      "execution_count": null,
      "outputs": []
    },
    {
      "cell_type": "code",
      "source": [
        "series_3.sort_values(inplace=True)\n",
        "series_3"
      ],
      "metadata": {
        "id": "jnTbX-9tVysh"
      },
      "execution_count": null,
      "outputs": []
    },
    {
      "cell_type": "code",
      "source": [
        "series_3.sort_index(inplace=True, ascending=False)\n",
        "series_3"
      ],
      "metadata": {
        "id": "87M8ORUBV9nw"
      },
      "execution_count": null,
      "outputs": []
    },
    {
      "cell_type": "markdown",
      "source": [
        "Як отримати доступ до елементів Series через індексацію:\n"
      ],
      "metadata": {
        "id": "RhKrlSgXDkCr"
      }
    },
    {
      "cell_type": "code",
      "source": [
        "# Доступ до елементів за індексом\n",
        "print(\"Елемент з індексом 0:\", series_1[0])\n",
        "print(\"Елемент з індексом 'b':\", series_2['b'])"
      ],
      "metadata": {
        "id": "7Ta3usIWDkFS"
      },
      "execution_count": null,
      "outputs": []
    },
    {
      "cell_type": "markdown",
      "source": [
        "Як фільтрувати Series на основі індексів або умов:\n"
      ],
      "metadata": {
        "id": "z5GMGQQuDkIT"
      }
    },
    {
      "cell_type": "code",
      "source": [
        "# Фільтрація елементів, більших за 25\n",
        "print(\"Елементи більше 25:\\n\", series_1[series_1 > 25])"
      ],
      "metadata": {
        "id": "3kGyKj4jDkK0"
      },
      "execution_count": null,
      "outputs": []
    },
    {
      "cell_type": "markdown",
      "source": [
        "Використання математичних операцій та функцій NumPy з Series:"
      ],
      "metadata": {
        "id": "Cu68PHRCDNlR"
      }
    },
    {
      "cell_type": "code",
      "source": [
        "# Додавання константи до всіх елементів\n",
        "print(\"Series + 5:\\n\", series_1 + 5)"
      ],
      "metadata": {
        "id": "aye873mEDNoN"
      },
      "execution_count": null,
      "outputs": []
    },
    {
      "cell_type": "code",
      "source": [
        "# Використання функцій NumPy\n",
        "print(\"Квадратний корінь:\\n\", np.sqrt(series_1))"
      ],
      "metadata": {
        "id": "XeFXM_4mEVq6"
      },
      "execution_count": null,
      "outputs": []
    },
    {
      "cell_type": "markdown",
      "source": [
        "Як створити DataFrame вручну або завантажити його з файлу:"
      ],
      "metadata": {
        "id": "EQlvZwH9EVtY"
      }
    },
    {
      "cell_type": "code",
      "source": [
        "# Створення DataFrame зі словника\n",
        "data = {'Name': ['Anna', 'Bob', 'Charlie'], 'Age': [25, 30, 35]}\n",
        "df = pd.DataFrame(data)\n",
        "\n",
        "print(\"DataFrame:\\n\", df)"
      ],
      "metadata": {
        "id": "zTRWBsIjEVwF"
      },
      "execution_count": null,
      "outputs": []
    },
    {
      "cell_type": "code",
      "source": [
        "# Завантаження даних з CSV\n",
        "# df = pd.read_csv('/Users/ivilchavskyi/Downloads/data.csv')\n",
        "#!pwd\n"
      ],
      "metadata": {
        "id": "o55EDaoDEVyx"
      },
      "execution_count": null,
      "outputs": []
    },
    {
      "cell_type": "code",
      "source": [
        "from google.colab import drive\n",
        "drive.mount('/content/drive')\n",
        "# allow access"
      ],
      "metadata": {
        "id": "BEfLEpTMGT9K"
      },
      "execution_count": null,
      "outputs": []
    },
    {
      "cell_type": "code",
      "source": [
        "file_path = '/content/drive/My Drive/Colab Notebooks/games.csv'\n",
        "\n",
        "df = pd.read_csv(file_path)\n",
        "\n",
        "# Display the first few rows to verify\n",
        "print(df)"
      ],
      "metadata": {
        "id": "BxyQzvpXEV1O"
      },
      "execution_count": null,
      "outputs": []
    },
    {
      "cell_type": "code",
      "source": [
        "path_to_excel_file = '/content/drive/My Drive/Colab Notebooks/test_data.xlsx'\n",
        "\n",
        "# Read the Excel file into a DataFrame\n",
        "df = pd.read_excel(path_to_excel_file, engine='openpyxl')\n",
        "\n",
        "# Display the first few rows to verify\n",
        "print(df.head())"
      ],
      "metadata": {
        "id": "ZabuVdvpJ5mv"
      },
      "execution_count": null,
      "outputs": []
    },
    {
      "cell_type": "code",
      "source": [
        "from google.colab import files\n",
        "files.upload()"
      ],
      "metadata": {
        "id": "QRdtCy0A_LVA"
      },
      "execution_count": null,
      "outputs": []
    },
    {
      "cell_type": "code",
      "source": [
        "!ls"
      ],
      "metadata": {
        "id": "eHGYvaiCAynp"
      },
      "execution_count": null,
      "outputs": []
    },
    {
      "cell_type": "code",
      "source": [
        "pd.read_csv?"
      ],
      "metadata": {
        "id": "RqpPLfWyA1YG"
      },
      "execution_count": null,
      "outputs": []
    },
    {
      "cell_type": "code",
      "source": [
        "pd.read_csv('games_payments.csv')"
      ],
      "metadata": {
        "id": "B5OAVBX3BChi"
      },
      "execution_count": null,
      "outputs": []
    },
    {
      "cell_type": "code",
      "source": [
        "!wget https://github.com/jonfernandes/pandas_essential/raw/main/olympics_1896_2004.csv"
      ],
      "metadata": {
        "id": "zjFvfUUJBCkf"
      },
      "execution_count": null,
      "outputs": []
    },
    {
      "cell_type": "code",
      "source": [
        "!ls"
      ],
      "metadata": {
        "id": "K4sjhKGYBCoq"
      },
      "execution_count": null,
      "outputs": []
    },
    {
      "cell_type": "code",
      "source": [
        "from pathlib import Path\n",
        "\n",
        "if not Path(\"olympics_1896_2004.csv\").exists():\n",
        "  !wget https://github.com/jonfernandes/pandas_essential/raw/main/olympics_1896_2004.csv\n",
        "\n",
        "filename = \"olympics_1896_2004.csv\"\n",
        "print(\"Installed all of the necessary files for this section ...\")\n"
      ],
      "metadata": {
        "id": "DyI-gob-CWji"
      },
      "execution_count": null,
      "outputs": []
    },
    {
      "cell_type": "code",
      "source": [
        "df = pd.read_csv(filename)\n",
        "df"
      ],
      "metadata": {
        "id": "VZY1WIdmEI0U"
      },
      "execution_count": null,
      "outputs": []
    },
    {
      "cell_type": "code",
      "source": [
        "df = pd.read_csv(filename, skiprows=5)\n",
        "df"
      ],
      "metadata": {
        "id": "SyOy1IivCsiI"
      },
      "execution_count": null,
      "outputs": []
    },
    {
      "cell_type": "markdown",
      "source": [
        "Використання основних методів для перегляду даних:\n"
      ],
      "metadata": {
        "id": "fzy_ysY2EV6_"
      }
    },
    {
      "cell_type": "code",
      "source": [
        "print(\"Перші 5 рядків:\\n\", df.head())"
      ],
      "metadata": {
        "id": "DBLprJ4FHnlN"
      },
      "execution_count": null,
      "outputs": []
    },
    {
      "cell_type": "code",
      "source": [
        "print(\"Останні 5 рядків:\\n\", df.tail())"
      ],
      "metadata": {
        "id": "T6Ixy-olHnoo"
      },
      "execution_count": null,
      "outputs": []
    },
    {
      "cell_type": "code",
      "source": [
        "print(\"Форма DataFrame (кількість рядків та колонок):\", df.shape)"
      ],
      "metadata": {
        "id": "PN8EgB88Hnro"
      },
      "execution_count": null,
      "outputs": []
    },
    {
      "cell_type": "code",
      "source": [
        "print(\"Інформація про DataFrame:\\n\", df.info())"
      ],
      "metadata": {
        "id": "C-d-77czHnuV"
      },
      "execution_count": null,
      "outputs": []
    },
    {
      "cell_type": "code",
      "source": [
        "print(\"Статистична інформація:\\n\", df.describe())"
      ],
      "metadata": {
        "id": "6e8dP7PFHnxH"
      },
      "execution_count": null,
      "outputs": []
    },
    {
      "cell_type": "code",
      "source": [
        "df.sample?"
      ],
      "metadata": {
        "id": "moSV8k99F6YP"
      },
      "execution_count": null,
      "outputs": []
    },
    {
      "cell_type": "code",
      "source": [
        "df.sample(5)"
      ],
      "metadata": {
        "id": "oSU0vJAzF_8Z"
      },
      "execution_count": null,
      "outputs": []
    },
    {
      "cell_type": "markdown",
      "source": [
        "Change default parameters of preview"
      ],
      "metadata": {
        "id": "wQkh_bAdGOKy"
      }
    },
    {
      "cell_type": "code",
      "source": [
        "pd.get_option(\"display.max_rows\")"
      ],
      "metadata": {
        "id": "-Phk7w1TIU7s"
      },
      "execution_count": null,
      "outputs": []
    },
    {
      "cell_type": "code",
      "source": [
        "pd.set_option(\"display.max_rows\", None)\n",
        "df"
      ],
      "metadata": {
        "id": "iCa7jgobIU_w"
      },
      "execution_count": null,
      "outputs": []
    },
    {
      "cell_type": "code",
      "source": [
        "pd.set_option(\"display.max_rows\", 60)\n",
        "df"
      ],
      "metadata": {
        "id": "sFqCHP4uI2Jc"
      },
      "execution_count": null,
      "outputs": []
    },
    {
      "cell_type": "code",
      "source": [
        "pd.get_option(\"display.max_columns\")"
      ],
      "metadata": {
        "id": "dUg1N17vI2ML"
      },
      "execution_count": null,
      "outputs": []
    },
    {
      "cell_type": "code",
      "source": [
        "pd.get_option(\"display.width\")"
      ],
      "metadata": {
        "id": "OKYhFcbfI2O6"
      },
      "execution_count": null,
      "outputs": []
    },
    {
      "cell_type": "code",
      "source": [
        "pd.set_option(\"display.width\", 100)"
      ],
      "metadata": {
        "id": "H_fnrSMuI2Rt"
      },
      "execution_count": null,
      "outputs": []
    },
    {
      "source": [
        "from google.colab import sheets\n",
        "sheet = sheets.InteractiveSheet(df=df)"
      ],
      "cell_type": "code",
      "execution_count": null,
      "outputs": [],
      "metadata": {
        "cellView": "form",
        "id": "JLIvggHGIjqk"
      }
    },
    {
      "cell_type": "code",
      "source": [
        "print(\"Назви колонок:\", df.columns)"
      ],
      "metadata": {
        "id": "XFKNzzOGIARR"
      },
      "execution_count": null,
      "outputs": []
    },
    {
      "cell_type": "code",
      "source": [],
      "metadata": {
        "id": "5U1p8fqzQCCS"
      },
      "execution_count": null,
      "outputs": []
    },
    {
      "cell_type": "code",
      "source": [
        "print(\"Типи даних:\\n\", df.dtypes)"
      ],
      "metadata": {
        "id": "YiQGuk0BIAT9"
      },
      "execution_count": null,
      "outputs": []
    },
    {
      "cell_type": "code",
      "source": [
        "type(df)"
      ],
      "metadata": {
        "id": "fFYl-MHVJ5EN"
      },
      "execution_count": null,
      "outputs": []
    },
    {
      "cell_type": "code",
      "source": [
        "df[\"Discipline\"]"
      ],
      "metadata": {
        "id": "d9tATm4MJ5IH"
      },
      "execution_count": null,
      "outputs": []
    },
    {
      "cell_type": "code",
      "source": [
        "df['Discipline']"
      ],
      "metadata": {
        "id": "bvKBn00BKTj5"
      },
      "execution_count": null,
      "outputs": []
    },
    {
      "cell_type": "code",
      "source": [
        "type(df[\"Discipline\"])"
      ],
      "metadata": {
        "id": "V6RezqOoJ5L4"
      },
      "execution_count": null,
      "outputs": []
    },
    {
      "cell_type": "code",
      "source": [
        "df.Discipline"
      ],
      "metadata": {
        "id": "TwxSOfd9J5Pw"
      },
      "execution_count": null,
      "outputs": []
    },
    {
      "cell_type": "code",
      "source": [
        "# перейменування колонок\n",
        "mapper = {\"Athlete Name\": \"Athlete_Name\",\n",
        "          \"Event Gender\": \"Event_Gender\"}\n",
        "\n",
        "df.rename(columns=mapper)"
      ],
      "metadata": {
        "id": "C957zj6MQB0K"
      },
      "execution_count": null,
      "outputs": []
    },
    {
      "cell_type": "code",
      "source": [
        "df = df.rename(columns={\"Athlete Name\": \"Athlete_Name\", \"Event Gender\": \"Event_Gender\"})\n",
        "df.rename(columns={\"Athlete Name\": \"Athlete_Name\", \"Event Gender\": \"Event_Gender\"}, inplace=True)"
      ],
      "metadata": {
        "id": "6HH9U47dQUo_"
      },
      "execution_count": null,
      "outputs": []
    },
    {
      "cell_type": "code",
      "source": [
        "column_names = ['Year', 'City', 'Sport', 'Discipline', 'Athlete_Name', 'NOC', 'Gender',\n",
        "       'Event', 'Event_Gender', 'Medal', 'Position']\n",
        "df.columns = column_names"
      ],
      "metadata": {
        "id": "GtTKS78tQmPx"
      },
      "execution_count": null,
      "outputs": []
    },
    {
      "cell_type": "code",
      "source": [
        "df.sample(3)"
      ],
      "metadata": {
        "id": "iUO4rIKLQsyu"
      },
      "execution_count": null,
      "outputs": []
    },
    {
      "cell_type": "code",
      "source": [
        "df.Discipline.unique()"
      ],
      "metadata": {
        "id": "2sq1FNsbJ5T9"
      },
      "execution_count": null,
      "outputs": []
    },
    {
      "cell_type": "code",
      "source": [
        "df.Year.value_counts()"
      ],
      "metadata": {
        "id": "X24I8L8dJ5YN"
      },
      "execution_count": null,
      "outputs": []
    },
    {
      "cell_type": "code",
      "source": [
        "df.Year.value_counts(normalize=True)"
      ],
      "metadata": {
        "id": "k-MbUpsWKwYE"
      },
      "execution_count": null,
      "outputs": []
    },
    {
      "cell_type": "markdown",
      "source": [
        "Як змінювати структуру DataFrame:"
      ],
      "metadata": {
        "id": "WDxCE8G5IAWP"
      }
    },
    {
      "cell_type": "code",
      "source": [
        "data = {'Name': ['Anna', 'Bob', 'Charlie'], 'Age': [25, 30, 35]}\n",
        "df = pd.DataFrame(data)"
      ],
      "metadata": {
        "id": "6pwNgfrwIAYy"
      },
      "execution_count": null,
      "outputs": []
    },
    {
      "cell_type": "code",
      "source": [
        "# Зміна індексу\n",
        "df.index = ['Row1', 'Row2', 'Row3']\n",
        "print(\"DataFrame з новими індексами:\\n\", df)"
      ],
      "metadata": {
        "id": "CrADE95fJkDC"
      },
      "execution_count": null,
      "outputs": []
    },
    {
      "cell_type": "code",
      "source": [
        "# Зміна назв колонок\n",
        "df.columns = ['Ім’я', 'Вік']\n",
        "print(\"DataFrame з новими назвами колонок:\\n\", df)"
      ],
      "metadata": {
        "id": "BnSXr9orIAbO"
      },
      "execution_count": null,
      "outputs": []
    },
    {
      "cell_type": "code",
      "source": [
        "# Видалення колонки\n",
        "df = df.drop('Вік', axis=1)\n",
        "print(\"DataFrame після видалення колонки 'Вік':\\n\", df)"
      ],
      "metadata": {
        "id": "sr3egKw0IAfS"
      },
      "execution_count": null,
      "outputs": []
    },
    {
      "cell_type": "code",
      "source": [
        "df.drop?"
      ],
      "metadata": {
        "id": "PiCynZcwMBJw"
      },
      "execution_count": null,
      "outputs": []
    },
    {
      "cell_type": "markdown",
      "source": [
        "Як звертатися до окремих колонок або рядків у DataFrame:"
      ],
      "metadata": {
        "id": "pw3ERV0oMkOP"
      }
    },
    {
      "cell_type": "code",
      "source": [
        "# Доступ до окремої колонки\n",
        "print(\"Колонка 'Ім’я':\\n\", df['Ім’я'])"
      ],
      "metadata": {
        "id": "TJv72CFzMp3f"
      },
      "execution_count": null,
      "outputs": []
    },
    {
      "cell_type": "code",
      "source": [
        "# Доступ до рядка за індексом\n",
        "print(\"Рядок 'Row2':\\n\", df.loc['Row2'])"
      ],
      "metadata": {
        "id": "NM75497PMp6O"
      },
      "execution_count": null,
      "outputs": []
    },
    {
      "cell_type": "code",
      "source": [
        "help(df.loc)"
      ],
      "metadata": {
        "id": "9xxHrpdzMp8_"
      },
      "execution_count": null,
      "outputs": []
    },
    {
      "cell_type": "code",
      "source": [
        "print(\"Рядок # 2':\\n\", df.iloc[1])"
      ],
      "metadata": {
        "id": "e7Mz3-NOW_om"
      },
      "execution_count": null,
      "outputs": []
    },
    {
      "cell_type": "code",
      "source": [
        "print(\"Зріз з рядка 1 по рядок 2':\\n\", df[0:2])"
      ],
      "metadata": {
        "id": "RKPeFmZDXYRQ"
      },
      "execution_count": null,
      "outputs": []
    },
    {
      "cell_type": "markdown",
      "source": [
        "Робота з відсутніми даними: isnull(), dropna(), fillna(), replace()"
      ],
      "metadata": {
        "id": "yRa0yCJHMp_w"
      }
    },
    {
      "cell_type": "code",
      "source": [
        "# Створення DataFrame з відсутніми даними\n",
        "df_with_nan = pd.DataFrame({'A': [1, np.nan, 3], 'B': [4, 5, np.nan]})\n",
        "df_with_nan"
      ],
      "metadata": {
        "id": "Bc9gKx83MqCW"
      },
      "execution_count": null,
      "outputs": []
    },
    {
      "cell_type": "code",
      "source": [
        "# Перевірка на відсутні значення\n",
        "print(\"Чи є відсутні значення?\\n\", df_with_nan.isnull())"
      ],
      "metadata": {
        "id": "6quvoNraMqFN"
      },
      "execution_count": null,
      "outputs": []
    },
    {
      "cell_type": "code",
      "source": [
        "# Видалення рядків з відсутніми значеннями\n",
        "print(\"DataFrame після видалення рядків з NaN:\\n\", df_with_nan.dropna())"
      ],
      "metadata": {
        "id": "x-EHj1MxMqIC"
      },
      "execution_count": null,
      "outputs": []
    },
    {
      "cell_type": "code",
      "source": [
        "# Заповнення відсутніх значень\n",
        "print(\"DataFrame після заповнення NaN нулями:\\n\", df_with_nan.fillna(0)) # inplace=False"
      ],
      "metadata": {
        "id": "YXfXjW89MqLS"
      },
      "execution_count": null,
      "outputs": []
    },
    {
      "cell_type": "code",
      "source": [
        "# Замінити конкретне значення\n",
        "print(\"DataFrame після заміни NaN на 99:\\n\", df_with_nan.replace(np.nan, 99))"
      ],
      "metadata": {
        "id": "_SFnuHTpMqPF"
      },
      "execution_count": null,
      "outputs": []
    },
    {
      "cell_type": "markdown",
      "source": [
        "Як ефективно використовувати методи Pandas у ланцюжку:"
      ],
      "metadata": {
        "id": "P8dfJhc_N4oJ"
      }
    },
    {
      "cell_type": "code",
      "source": [
        "# Використання ланцюжка методів для фільтрації та обробки даних\n",
        "result = (df_with_nan.fillna(0)\n",
        "          .replace(0, -1)\n",
        "          .head()\n",
        "          )\n",
        "\n",
        "# result = df_with_nan.fillna(0).replace(0, -1).head()\n",
        "\n",
        "print(\"Результат ланцюжка методів:\\n\", result)"
      ],
      "metadata": {
        "id": "vkAdXjOSN5HR"
      },
      "execution_count": null,
      "outputs": []
    }
  ]
}