{
 "cells": [
  {
   "cell_type": "markdown",
   "metadata": {
    "id": "b9xxWtFo_Dh3"
   },
   "source": [
    "# NumPy"
   ]
  },
  {
   "cell_type": "code",
   "execution_count": null,
   "metadata": {
    "id": "SnDZTqw6Oa78"
   },
   "outputs": [],
   "source": [
    "!pip3 install numpy"
   ]
  },
  {
   "cell_type": "code",
   "execution_count": null,
   "metadata": {
    "id": "fhkQExdpOmWf"
   },
   "outputs": [],
   "source": [
    "import math\n",
    "print(math.sqrt(16))# Виведе 4.0"
   ]
  },
  {
   "cell_type": "code",
   "execution_count": null,
   "metadata": {
    "id": "BCnE9xobOmZt"
   },
   "outputs": [],
   "source": [
    "sqrt(16)"
   ]
  },
  {
   "cell_type": "code",
   "execution_count": null,
   "metadata": {
    "id": "WIB42T4dOqng"
   },
   "outputs": [],
   "source": [
    "from math import sqrt\n",
    "\n",
    "sqrt(16)"
   ]
  },
  {
   "cell_type": "code",
   "execution_count": 2,
   "metadata": {
    "id": "LWSMdt3z-ylA"
   },
   "outputs": [],
   "source": [
    "import numpy as np"
   ]
  },
  {
   "cell_type": "markdown",
   "metadata": {
    "id": "UQODSGnW_BQ2"
   },
   "source": [
    "Створення одномірних, двомірних і багатовимірних масивів:"
   ]
  },
  {
   "cell_type": "code",
   "execution_count": null,
   "metadata": {
    "id": "lsCxJyZ5_B2M"
   },
   "outputs": [],
   "source": [
    "# Одномірний масив\n",
    "arr_1d = np.array([1, 2, 3, 4, 5])\n",
    "\n",
    "# Виведення масивів\n",
    "print(\"Одномірний масив:\", arr_1d)"
   ]
  },
  {
   "cell_type": "code",
   "execution_count": null,
   "metadata": {
    "id": "yxWNps5IQNQ1"
   },
   "outputs": [],
   "source": [
    "# Одномірний масив із вказаним типом даних\n",
    "arr_1d = np.array([1, 2, 3, 4, 5], dtype = float)\n",
    "\n",
    "# Виведення масивів\n",
    "print(\"Одномірний масив:\", arr_1d)"
   ]
  },
  {
   "cell_type": "code",
   "execution_count": null,
   "metadata": {
    "id": "EMp9lsx-_LTL"
   },
   "outputs": [],
   "source": [
    "# Двомірний масив\n",
    "arr_2d = np.array([[1, 2, 3], [4, 5, 6]])\n",
    "\n",
    "# Виведення масивів\n",
    "print(\"Двомірний масив:\\n\", arr_2d)\n"
   ]
  },
  {
   "cell_type": "code",
   "execution_count": null,
   "metadata": {
    "colab": {
     "base_uri": "https://localhost:8080/"
    },
    "id": "udtuLDsp_TNs",
    "outputId": "6a1aebf5-5398-45d0-a141-744f8408e70c"
   },
   "outputs": [
    {
     "name": "stdout",
     "output_type": "stream",
     "text": [
      "Багатовимірний масив:\n",
      " [[[1 2]\n",
      "  [3 4]]\n",
      "\n",
      " [[5 6]\n",
      "  [7 8]]]\n"
     ]
    }
   ],
   "source": [
    "# Багатовимірний масив\n",
    "arr_3d = np.array([[[1, 2], [3, 4]], [[5, 6], [7, 8]]])\n",
    "\n",
    "# Виведення масивів\n",
    "print(\"Багатовимірний масив:\\n\", arr_3d)"
   ]
  },
  {
   "cell_type": "markdown",
   "metadata": {
    "id": "jkQzRPOFCIwu"
   },
   "source": [
    "Як отримати інформацію про форму, розмір та тип даних масиву:"
   ]
  },
  {
   "cell_type": "code",
   "execution_count": null,
   "metadata": {
    "id": "Y7QKLD0pCDDv"
   },
   "outputs": [],
   "source": [
    "print(\"Форма масиву (shape):\", arr_2d.shape)"
   ]
  },
  {
   "cell_type": "code",
   "execution_count": null,
   "metadata": {
    "id": "vcahZQ4-CKFn"
   },
   "outputs": [],
   "source": [
    "print(\"Розмір масиву (size):\", arr_2d.size)"
   ]
  },
  {
   "cell_type": "code",
   "execution_count": null,
   "metadata": {
    "id": "9vFjVLmzCKIP"
   },
   "outputs": [],
   "source": [
    "print(\"Тип даних масиву (dtype):\", arr_2d.dtype)"
   ]
  },
  {
   "cell_type": "code",
   "execution_count": null,
   "metadata": {
    "id": "2TUHFzlCP2TB"
   },
   "outputs": [],
   "source": [
    "# створення масиву одиниць\n",
    "m = np.ones((2, 3), dtype=int)\n",
    "print(m)"
   ]
  },
  {
   "cell_type": "code",
   "execution_count": null,
   "metadata": {
    "id": "2g-uEZ--P2WB"
   },
   "outputs": [],
   "source": [
    "# створення масиву нулів\n",
    "m = np.zeros((2, 3), dtype=int)\n",
    "print(m)"
   ]
  },
  {
   "cell_type": "code",
   "execution_count": null,
   "metadata": {
    "id": "VfXMDCxlP2ZA"
   },
   "outputs": [],
   "source": [
    "# створення одиничної матриці\n",
    "m = np.identity(4, dtype=int)\n",
    "print(m)"
   ]
  },
  {
   "cell_type": "code",
   "execution_count": null,
   "metadata": {
    "id": "_9-BOvFCP2bs"
   },
   "outputs": [],
   "source": [
    "# створення масиву з послідовності чисел\n",
    "a = np.arange(5)\n",
    "b = np.arange(1, 3, 0.5) # обовʼязковим є лише кінець діапазону\n",
    "print(a)\n",
    "print(b)"
   ]
  },
  {
   "cell_type": "code",
   "execution_count": null,
   "metadata": {
    "id": "ZhKDJXkNP2ek"
   },
   "outputs": [],
   "source": [
    "# включення останнього елемента діапазону\n",
    "a = np.linspace(1, 5, num=5)\n",
    "b = np.linspace(1, 3, num=3)\n",
    "print(a)\n",
    "print(b)"
   ]
  },
  {
   "cell_type": "code",
   "execution_count": null,
   "metadata": {
    "id": "hU1TXnsPP2hc"
   },
   "outputs": [],
   "source": [
    "# створення матриць з випадковими числами\n",
    "a = np.random.random(3)\n",
    "b = np.random.random((3, 3))\n",
    "print(a)\n",
    "print(b)"
   ]
  },
  {
   "cell_type": "markdown",
   "metadata": {
    "id": "iz2tnNscCa6k"
   },
   "source": [
    "Як звертатись до окремих елементів масиву за індексами:"
   ]
  },
  {
   "cell_type": "code",
   "execution_count": null,
   "metadata": {
    "id": "aC72SSw3RbQD"
   },
   "outputs": [],
   "source": [
    "arr_1d"
   ]
  },
  {
   "cell_type": "code",
   "execution_count": null,
   "metadata": {
    "id": "jMfFrxZPCKLC"
   },
   "outputs": [],
   "source": [
    "# Доступ до елементів одномірного масиву\n",
    "print(\"Перший елемент:\", arr_1d[0])"
   ]
  },
  {
   "cell_type": "code",
   "execution_count": null,
   "metadata": {
    "id": "VywsD08URgcj"
   },
   "outputs": [],
   "source": [
    "# отримання зрізу даних (слайсінг)\n",
    "print(\"Елементи починаючи з другого елемента:\", arr_1d[1:])"
   ]
  },
  {
   "cell_type": "code",
   "execution_count": null,
   "metadata": {
    "id": "pfd-qol5RgfM"
   },
   "outputs": [],
   "source": [
    "# отримання зрізу даних (слайсінг)\n",
    "print(\"Елементи до третього елемента:\", arr_1d[:2])"
   ]
  },
  {
   "cell_type": "code",
   "execution_count": null,
   "metadata": {
    "id": "nOB--i0FRgiD"
   },
   "outputs": [],
   "source": [
    "arr_2d"
   ]
  },
  {
   "cell_type": "code",
   "execution_count": null,
   "metadata": {
    "id": "3Og2j5AYCKNt"
   },
   "outputs": [],
   "source": [
    "# Доступ до елементів двомірного масиву\n",
    "print(\"Елемент [1, 2] у двомірному масиві:\", arr_2d[1, 2])"
   ]
  },
  {
   "cell_type": "code",
   "execution_count": null,
   "metadata": {
    "id": "J1TA8wWHSElE"
   },
   "outputs": [],
   "source": [
    "print(arr_2d[0:, 1])\n",
    "print(arr_2d[0, :2])"
   ]
  },
  {
   "cell_type": "code",
   "execution_count": null,
   "metadata": {
    "id": "BF7lbBqWCKQD"
   },
   "outputs": [],
   "source": [
    "# Зміна значення елемента\n",
    "arr_1d[0] = 10\n",
    "print(\"Змінений масив:\", arr_1d)"
   ]
  },
  {
   "cell_type": "markdown",
   "metadata": {
    "id": "AUAqQZa5CybX"
   },
   "source": [
    "Виконання базових математичних операцій між масивами:\n"
   ]
  },
  {
   "cell_type": "code",
   "execution_count": null,
   "metadata": {
    "id": "8uB9wwW6Cvvk"
   },
   "outputs": [],
   "source": [
    "# Створення двох масивів\n",
    "arr_a = np.array([1, 2, 3])\n",
    "arr_b = np.array([4, 5, 6])"
   ]
  },
  {
   "cell_type": "code",
   "execution_count": null,
   "metadata": {
    "id": "cCI520m_CvyR"
   },
   "outputs": [],
   "source": [
    "# Додавання\n",
    "print(\"Додавання:\", np.add(arr_a, arr_b))"
   ]
  },
  {
   "cell_type": "code",
   "execution_count": null,
   "metadata": {
    "id": "XlUjmQ3_Cv1J"
   },
   "outputs": [],
   "source": [
    "# Віднімання\n",
    "print(\"Віднімання:\", np.subtract(arr_a, arr_b))"
   ]
  },
  {
   "cell_type": "code",
   "execution_count": null,
   "metadata": {
    "id": "FJgIXaHpCv3f"
   },
   "outputs": [],
   "source": [
    "# Множення\n",
    "print(\"Множення:\", np.multiply(arr_a, arr_b))"
   ]
  },
  {
   "cell_type": "code",
   "execution_count": null,
   "metadata": {
    "id": "kLBpkqaOCv6W"
   },
   "outputs": [],
   "source": [
    "# Ділення\n",
    "print(\"Ділення:\", np.divide(arr_a, arr_b))"
   ]
  },
  {
   "cell_type": "markdown",
   "metadata": {
    "id": "M-OV8zoJCv9f"
   },
   "source": [
    "Статистичні функції: sqrt(), abs(), min(), max()"
   ]
  },
  {
   "cell_type": "code",
   "execution_count": null,
   "metadata": {
    "id": "kKchBp-FCKT4"
   },
   "outputs": [],
   "source": [
    "# Квадратний корінь кожного елемента\n",
    "print(\"Квадратний корінь:\", np.sqrt(arr_a))"
   ]
  },
  {
   "cell_type": "code",
   "execution_count": null,
   "metadata": {
    "id": "pr-bRCTIDNUX"
   },
   "outputs": [],
   "source": [
    "# Модуль (абсолютне значення)\n",
    "arr_neg = np.array([-1, -2, -3])\n",
    "print(\"Абсолютне значення:\", np.abs(arr_neg))"
   ]
  },
  {
   "cell_type": "code",
   "execution_count": null,
   "metadata": {
    "id": "RIli40crDNXJ"
   },
   "outputs": [],
   "source": [
    "# Мінімальне та максимальне значення\n",
    "print(\"Мінімум:\", np.min(arr_b))\n",
    "print(\"Максимум:\", np.max(arr_b))"
   ]
  },
  {
   "cell_type": "markdown",
   "metadata": {
    "id": "M8b04POlDNaG"
   },
   "source": [
    "Як сортувати елементи в масиві:"
   ]
  },
  {
   "cell_type": "code",
   "execution_count": null,
   "metadata": {
    "id": "7skGMYbXDNcn"
   },
   "outputs": [],
   "source": [
    "arr_unsorted = np.array([3, 1, 2, 5, 4])\n",
    "\n",
    "# Сортування\n",
    "print(\"Сортований масив:\", np.sort(arr_unsorted))"
   ]
  },
  {
   "cell_type": "markdown",
   "metadata": {
    "id": "9td9Vj-6DNfT"
   },
   "source": [
    "# Робота з Pandas"
   ]
  },
  {
   "cell_type": "code",
   "execution_count": null,
   "metadata": {
    "id": "mibJ8Hv5DNiB"
   },
   "outputs": [],
   "source": [
    "import pandas as pd"
   ]
  },
  {
   "cell_type": "markdown",
   "metadata": {
    "id": "QyUZSXPjDsZW"
   },
   "source": [
    "Що таке Series і як створювати Series у Pandas за допомогою конструктора:\n"
   ]
  },
  {
   "cell_type": "code",
   "execution_count": null,
   "metadata": {
    "id": "ARCtYE4ZDj7C"
   },
   "outputs": [],
   "source": [
    "# Створення Series зі списку\n",
    "series_1 = pd.Series([10, 20, 30, 40])\n",
    "series_1"
   ]
  },
  {
   "cell_type": "code",
   "execution_count": null,
   "metadata": {
    "id": "CIAUW6N1Dj9m"
   },
   "outputs": [],
   "source": [
    "# Створення Series зі списку з індексами\n",
    "series_2 = pd.Series([100, 200, 300], index=['a', 'b', 'c'])\n",
    "series_2"
   ]
  },
  {
   "cell_type": "code",
   "execution_count": null,
   "metadata": {
    "id": "vhMKmNIZDkAB"
   },
   "outputs": [],
   "source": [
    "# Створення Series з використанням словника\n",
    "series_3 = pd.Series({'a': 3, 'c': 2, 'b': 1})\n",
    "series_3"
   ]
  },
  {
   "cell_type": "markdown",
   "metadata": {
    "id": "2W-EO2BsVL-d"
   },
   "source": [
    "Сортування Series за індексами та значеннями"
   ]
  },
  {
   "cell_type": "code",
   "execution_count": null,
   "metadata": {
    "id": "dynmqRWaVR69"
   },
   "outputs": [],
   "source": [
    "series_3.sort_index()"
   ]
  },
  {
   "cell_type": "code",
   "execution_count": null,
   "metadata": {
    "id": "VzObu-YXVSSi"
   },
   "outputs": [],
   "source": [
    "series_3.sort_values()"
   ]
  },
  {
   "cell_type": "code",
   "execution_count": null,
   "metadata": {
    "id": "p_M4mIaBVypC"
   },
   "outputs": [],
   "source": [
    "series_3"
   ]
  },
  {
   "cell_type": "code",
   "execution_count": null,
   "metadata": {
    "id": "jnTbX-9tVysh"
   },
   "outputs": [],
   "source": [
    "series_3.sort_values(inplace=True)\n",
    "series_3"
   ]
  },
  {
   "cell_type": "code",
   "execution_count": null,
   "metadata": {
    "id": "87M8ORUBV9nw"
   },
   "outputs": [],
   "source": [
    "series_3.sort_index(inplace=True, ascending=False)\n",
    "series_3"
   ]
  },
  {
   "cell_type": "markdown",
   "metadata": {
    "id": "RhKrlSgXDkCr"
   },
   "source": [
    "Як отримати доступ до елементів Series через індексацію:\n"
   ]
  },
  {
   "cell_type": "code",
   "execution_count": null,
   "metadata": {
    "id": "7Ta3usIWDkFS"
   },
   "outputs": [],
   "source": [
    "# Доступ до елементів за індексом\n",
    "print(\"Елемент з індексом 0:\", series_1[0])\n",
    "print(\"Елемент з індексом 'b':\", series_2['b'])"
   ]
  },
  {
   "cell_type": "markdown",
   "metadata": {
    "id": "z5GMGQQuDkIT"
   },
   "source": [
    "Як фільтрувати Series на основі індексів або умов:\n"
   ]
  },
  {
   "cell_type": "code",
   "execution_count": null,
   "metadata": {
    "id": "3kGyKj4jDkK0"
   },
   "outputs": [],
   "source": [
    "# Фільтрація елементів, більших за 25\n",
    "print(\"Елементи більше 25:\\n\", series_1[series_1 > 25])"
   ]
  },
  {
   "cell_type": "markdown",
   "metadata": {
    "id": "Cu68PHRCDNlR"
   },
   "source": [
    "Використання математичних операцій та функцій NumPy з Series:"
   ]
  },
  {
   "cell_type": "code",
   "execution_count": null,
   "metadata": {
    "id": "aye873mEDNoN"
   },
   "outputs": [],
   "source": [
    "# Додавання константи до всіх елементів\n",
    "print(\"Series + 5:\\n\", series_1 + 5)"
   ]
  },
  {
   "cell_type": "code",
   "execution_count": null,
   "metadata": {
    "id": "XeFXM_4mEVq6"
   },
   "outputs": [],
   "source": [
    "# Використання функцій NumPy\n",
    "print(\"Квадратний корінь:\\n\", np.sqrt(series_1))"
   ]
  },
  {
   "cell_type": "markdown",
   "metadata": {
    "id": "EQlvZwH9EVtY"
   },
   "source": [
    "Як створити DataFrame вручну або завантажити його з файлу:"
   ]
  },
  {
   "cell_type": "code",
   "execution_count": null,
   "metadata": {
    "id": "zTRWBsIjEVwF"
   },
   "outputs": [],
   "source": [
    "# Створення DataFrame зі словника\n",
    "data = {'Name': ['Anna', 'Bob', 'Charlie'], 'Age': [25, 30, 35]}\n",
    "df = pd.DataFrame(data)\n",
    "\n",
    "print(\"DataFrame:\\n\", df)"
   ]
  },
  {
   "cell_type": "code",
   "execution_count": null,
   "metadata": {
    "id": "o55EDaoDEVyx"
   },
   "outputs": [],
   "source": [
    "# Завантаження даних з CSV\n",
    "# df = pd.read_csv('/Users/ivilchavskyi/Downloads/data.csv')\n",
    "#!pwd\n"
   ]
  },
  {
   "cell_type": "code",
   "execution_count": null,
   "metadata": {
    "id": "BEfLEpTMGT9K"
   },
   "outputs": [],
   "source": [
    "from google.colab import drive\n",
    "drive.mount('/content/drive')\n",
    "# allow access"
   ]
  },
  {
   "cell_type": "code",
   "execution_count": null,
   "metadata": {
    "id": "BxyQzvpXEV1O"
   },
   "outputs": [],
   "source": [
    "file_path = '/content/drive/My Drive/Colab Notebooks/games.csv'\n",
    "\n",
    "df = pd.read_csv(file_path)\n",
    "\n",
    "# Display the first few rows to verify\n",
    "print(df)"
   ]
  },
  {
   "cell_type": "code",
   "execution_count": null,
   "metadata": {
    "id": "ZabuVdvpJ5mv"
   },
   "outputs": [],
   "source": [
    "path_to_excel_file = '/content/drive/My Drive/Colab Notebooks/test_data.xlsx'\n",
    "\n",
    "# Read the Excel file into a DataFrame\n",
    "df = pd.read_excel(path_to_excel_file, engine='openpyxl')\n",
    "\n",
    "# Display the first few rows to verify\n",
    "print(df.head())"
   ]
  },
  {
   "cell_type": "code",
   "execution_count": null,
   "metadata": {
    "id": "QRdtCy0A_LVA"
   },
   "outputs": [],
   "source": [
    "from google.colab import files\n",
    "files.upload()"
   ]
  },
  {
   "cell_type": "code",
   "execution_count": null,
   "metadata": {
    "id": "eHGYvaiCAynp"
   },
   "outputs": [],
   "source": [
    "!ls"
   ]
  },
  {
   "cell_type": "code",
   "execution_count": null,
   "metadata": {
    "id": "RqpPLfWyA1YG"
   },
   "outputs": [],
   "source": [
    "pd.read_csv?"
   ]
  },
  {
   "cell_type": "code",
   "execution_count": null,
   "metadata": {
    "id": "B5OAVBX3BChi"
   },
   "outputs": [],
   "source": [
    "pd.read_csv('games_payments.csv')"
   ]
  },
  {
   "cell_type": "code",
   "execution_count": null,
   "metadata": {
    "id": "zjFvfUUJBCkf"
   },
   "outputs": [],
   "source": [
    "!wget https://github.com/jonfernandes/pandas_essential/raw/main/olympics_1896_2004.csv"
   ]
  },
  {
   "cell_type": "code",
   "execution_count": null,
   "metadata": {
    "id": "K4sjhKGYBCoq"
   },
   "outputs": [],
   "source": [
    "!ls"
   ]
  },
  {
   "cell_type": "code",
   "execution_count": null,
   "metadata": {
    "id": "DyI-gob-CWji"
   },
   "outputs": [],
   "source": [
    "from pathlib import Path\n",
    "\n",
    "if not Path(\"olympics_1896_2004.csv\").exists():\n",
    "  !wget https://github.com/jonfernandes/pandas_essential/raw/main/olympics_1896_2004.csv\n",
    "\n",
    "filename = \"olympics_1896_2004.csv\"\n",
    "print(\"Installed all of the necessary files for this section ...\")\n"
   ]
  },
  {
   "cell_type": "code",
   "execution_count": null,
   "metadata": {
    "id": "VZY1WIdmEI0U"
   },
   "outputs": [],
   "source": [
    "df = pd.read_csv(filename)\n",
    "df"
   ]
  },
  {
   "cell_type": "code",
   "execution_count": null,
   "metadata": {
    "id": "SyOy1IivCsiI"
   },
   "outputs": [],
   "source": [
    "df = pd.read_csv(filename, skiprows=5)\n",
    "df"
   ]
  },
  {
   "cell_type": "markdown",
   "metadata": {
    "id": "fzy_ysY2EV6_"
   },
   "source": [
    "Використання основних методів для перегляду даних:\n"
   ]
  },
  {
   "cell_type": "code",
   "execution_count": null,
   "metadata": {
    "id": "DBLprJ4FHnlN"
   },
   "outputs": [],
   "source": [
    "print(\"Перші 5 рядків:\\n\", df.head())"
   ]
  },
  {
   "cell_type": "code",
   "execution_count": null,
   "metadata": {
    "id": "T6Ixy-olHnoo"
   },
   "outputs": [],
   "source": [
    "print(\"Останні 5 рядків:\\n\", df.tail())"
   ]
  },
  {
   "cell_type": "code",
   "execution_count": null,
   "metadata": {
    "id": "PN8EgB88Hnro"
   },
   "outputs": [],
   "source": [
    "print(\"Форма DataFrame (кількість рядків та колонок):\", df.shape)"
   ]
  },
  {
   "cell_type": "code",
   "execution_count": null,
   "metadata": {
    "id": "C-d-77czHnuV"
   },
   "outputs": [],
   "source": [
    "print(\"Інформація про DataFrame:\\n\", df.info())"
   ]
  },
  {
   "cell_type": "code",
   "execution_count": null,
   "metadata": {
    "id": "6e8dP7PFHnxH"
   },
   "outputs": [],
   "source": [
    "print(\"Статистична інформація:\\n\", df.describe())"
   ]
  },
  {
   "cell_type": "code",
   "execution_count": null,
   "metadata": {
    "id": "moSV8k99F6YP"
   },
   "outputs": [],
   "source": [
    "df.sample?"
   ]
  },
  {
   "cell_type": "code",
   "execution_count": null,
   "metadata": {
    "id": "oSU0vJAzF_8Z"
   },
   "outputs": [],
   "source": [
    "df.sample(5)"
   ]
  },
  {
   "cell_type": "markdown",
   "metadata": {
    "id": "wQkh_bAdGOKy"
   },
   "source": [
    "Change default parameters of preview"
   ]
  },
  {
   "cell_type": "code",
   "execution_count": null,
   "metadata": {
    "id": "-Phk7w1TIU7s"
   },
   "outputs": [],
   "source": [
    "pd.get_option(\"display.max_rows\")"
   ]
  },
  {
   "cell_type": "code",
   "execution_count": null,
   "metadata": {
    "id": "iCa7jgobIU_w"
   },
   "outputs": [],
   "source": [
    "pd.set_option(\"display.max_rows\", None)\n",
    "df"
   ]
  },
  {
   "cell_type": "code",
   "execution_count": null,
   "metadata": {
    "id": "sFqCHP4uI2Jc"
   },
   "outputs": [],
   "source": [
    "pd.set_option(\"display.max_rows\", 60)\n",
    "df"
   ]
  },
  {
   "cell_type": "code",
   "execution_count": null,
   "metadata": {
    "id": "dUg1N17vI2ML"
   },
   "outputs": [],
   "source": [
    "pd.get_option(\"display.max_columns\")"
   ]
  },
  {
   "cell_type": "code",
   "execution_count": null,
   "metadata": {
    "id": "OKYhFcbfI2O6"
   },
   "outputs": [],
   "source": [
    "pd.get_option(\"display.width\")"
   ]
  },
  {
   "cell_type": "code",
   "execution_count": null,
   "metadata": {
    "id": "H_fnrSMuI2Rt"
   },
   "outputs": [],
   "source": [
    "pd.set_option(\"display.width\", 100)"
   ]
  },
  {
   "cell_type": "code",
   "execution_count": null,
   "metadata": {
    "cellView": "form",
    "id": "JLIvggHGIjqk"
   },
   "outputs": [],
   "source": [
    "from google.colab import sheets\n",
    "sheet = sheets.InteractiveSheet(df=df)"
   ]
  },
  {
   "cell_type": "code",
   "execution_count": null,
   "metadata": {
    "id": "XFKNzzOGIARR"
   },
   "outputs": [],
   "source": [
    "print(\"Назви колонок:\", df.columns)"
   ]
  },
  {
   "cell_type": "code",
   "execution_count": null,
   "metadata": {
    "id": "5U1p8fqzQCCS"
   },
   "outputs": [],
   "source": []
  },
  {
   "cell_type": "code",
   "execution_count": null,
   "metadata": {
    "id": "YiQGuk0BIAT9"
   },
   "outputs": [],
   "source": [
    "print(\"Типи даних:\\n\", df.dtypes)"
   ]
  },
  {
   "cell_type": "code",
   "execution_count": null,
   "metadata": {
    "id": "fFYl-MHVJ5EN"
   },
   "outputs": [],
   "source": [
    "type(df)"
   ]
  },
  {
   "cell_type": "code",
   "execution_count": null,
   "metadata": {
    "id": "d9tATm4MJ5IH"
   },
   "outputs": [],
   "source": [
    "df[\"Discipline\"]"
   ]
  },
  {
   "cell_type": "code",
   "execution_count": null,
   "metadata": {
    "id": "bvKBn00BKTj5"
   },
   "outputs": [],
   "source": [
    "df['Discipline']"
   ]
  },
  {
   "cell_type": "code",
   "execution_count": null,
   "metadata": {
    "id": "V6RezqOoJ5L4"
   },
   "outputs": [],
   "source": [
    "type(df[\"Discipline\"])"
   ]
  },
  {
   "cell_type": "code",
   "execution_count": null,
   "metadata": {
    "id": "TwxSOfd9J5Pw"
   },
   "outputs": [],
   "source": [
    "df.Discipline"
   ]
  },
  {
   "cell_type": "code",
   "execution_count": null,
   "metadata": {
    "id": "C957zj6MQB0K"
   },
   "outputs": [],
   "source": [
    "# перейменування колонок\n",
    "mapper = {\"Athlete Name\": \"Athlete_Name\",\n",
    "          \"Event Gender\": \"Event_Gender\"}\n",
    "\n",
    "df.rename(columns=mapper)"
   ]
  },
  {
   "cell_type": "code",
   "execution_count": null,
   "metadata": {
    "id": "6HH9U47dQUo_"
   },
   "outputs": [],
   "source": [
    "df = df.rename(columns={\"Athlete Name\": \"Athlete_Name\", \"Event Gender\": \"Event_Gender\"})\n",
    "df.rename(columns={\"Athlete Name\": \"Athlete_Name\", \"Event Gender\": \"Event_Gender\"}, inplace=True)"
   ]
  },
  {
   "cell_type": "code",
   "execution_count": null,
   "metadata": {
    "id": "GtTKS78tQmPx"
   },
   "outputs": [],
   "source": [
    "column_names = ['Year', 'City', 'Sport', 'Discipline', 'Athlete_Name', 'NOC', 'Gender',\n",
    "       'Event', 'Event_Gender', 'Medal', 'Position']\n",
    "df.columns = column_names"
   ]
  },
  {
   "cell_type": "code",
   "execution_count": null,
   "metadata": {
    "id": "iUO4rIKLQsyu"
   },
   "outputs": [],
   "source": [
    "df.sample(3)"
   ]
  },
  {
   "cell_type": "code",
   "execution_count": null,
   "metadata": {
    "id": "2sq1FNsbJ5T9"
   },
   "outputs": [],
   "source": [
    "df.Discipline.unique()"
   ]
  },
  {
   "cell_type": "code",
   "execution_count": null,
   "metadata": {
    "id": "X24I8L8dJ5YN"
   },
   "outputs": [],
   "source": [
    "df.Year.value_counts()"
   ]
  },
  {
   "cell_type": "code",
   "execution_count": null,
   "metadata": {
    "id": "k-MbUpsWKwYE"
   },
   "outputs": [],
   "source": [
    "df.Year.value_counts(normalize=True)"
   ]
  },
  {
   "cell_type": "markdown",
   "metadata": {
    "id": "WDxCE8G5IAWP"
   },
   "source": [
    "Як змінювати структуру DataFrame:"
   ]
  },
  {
   "cell_type": "code",
   "execution_count": null,
   "metadata": {
    "id": "6pwNgfrwIAYy"
   },
   "outputs": [],
   "source": [
    "data = {'Name': ['Anna', 'Bob', 'Charlie'], 'Age': [25, 30, 35]}\n",
    "df = pd.DataFrame(data)"
   ]
  },
  {
   "cell_type": "code",
   "execution_count": null,
   "metadata": {
    "id": "CrADE95fJkDC"
   },
   "outputs": [],
   "source": [
    "# Зміна індексу\n",
    "df.index = ['Row1', 'Row2', 'Row3']\n",
    "print(\"DataFrame з новими індексами:\\n\", df)"
   ]
  },
  {
   "cell_type": "code",
   "execution_count": null,
   "metadata": {
    "id": "BnSXr9orIAbO"
   },
   "outputs": [],
   "source": [
    "# Зміна назв колонок\n",
    "df.columns = ['Ім’я', 'Вік']\n",
    "print(\"DataFrame з новими назвами колонок:\\n\", df)"
   ]
  },
  {
   "cell_type": "code",
   "execution_count": null,
   "metadata": {
    "id": "sr3egKw0IAfS"
   },
   "outputs": [],
   "source": [
    "# Видалення колонки\n",
    "df = df.drop('Вік', axis=1)\n",
    "print(\"DataFrame після видалення колонки 'Вік':\\n\", df)"
   ]
  },
  {
   "cell_type": "code",
   "execution_count": null,
   "metadata": {
    "id": "PiCynZcwMBJw"
   },
   "outputs": [],
   "source": [
    "df.drop?"
   ]
  },
  {
   "cell_type": "markdown",
   "metadata": {
    "id": "pw3ERV0oMkOP"
   },
   "source": [
    "Як звертатися до окремих колонок або рядків у DataFrame:"
   ]
  },
  {
   "cell_type": "code",
   "execution_count": null,
   "metadata": {
    "id": "TJv72CFzMp3f"
   },
   "outputs": [],
   "source": [
    "# Доступ до окремої колонки\n",
    "print(\"Колонка 'Ім’я':\\n\", df['Ім’я'])"
   ]
  },
  {
   "cell_type": "code",
   "execution_count": null,
   "metadata": {
    "id": "NM75497PMp6O"
   },
   "outputs": [],
   "source": [
    "# Доступ до рядка за індексом\n",
    "print(\"Рядок 'Row2':\\n\", df.loc['Row2'])"
   ]
  },
  {
   "cell_type": "code",
   "execution_count": null,
   "metadata": {
    "id": "9xxHrpdzMp8_"
   },
   "outputs": [],
   "source": [
    "help(df.loc)"
   ]
  },
  {
   "cell_type": "code",
   "execution_count": null,
   "metadata": {
    "id": "e7Mz3-NOW_om"
   },
   "outputs": [],
   "source": [
    "print(\"Рядок # 2':\\n\", df.iloc[1])"
   ]
  },
  {
   "cell_type": "code",
   "execution_count": null,
   "metadata": {
    "id": "RKPeFmZDXYRQ"
   },
   "outputs": [],
   "source": [
    "print(\"Зріз з рядка 1 по рядок 2':\\n\", df[0:2])"
   ]
  },
  {
   "cell_type": "markdown",
   "metadata": {
    "id": "yRa0yCJHMp_w"
   },
   "source": [
    "Робота з відсутніми даними: isnull(), dropna(), fillna(), replace()"
   ]
  },
  {
   "cell_type": "code",
   "execution_count": null,
   "metadata": {
    "id": "Bc9gKx83MqCW"
   },
   "outputs": [],
   "source": [
    "# Створення DataFrame з відсутніми даними\n",
    "df_with_nan = pd.DataFrame({'A': [1, np.nan, 3], 'B': [4, 5, np.nan]})\n",
    "df_with_nan"
   ]
  },
  {
   "cell_type": "code",
   "execution_count": null,
   "metadata": {
    "id": "6quvoNraMqFN"
   },
   "outputs": [],
   "source": [
    "# Перевірка на відсутні значення\n",
    "print(\"Чи є відсутні значення?\\n\", df_with_nan.isnull())"
   ]
  },
  {
   "cell_type": "code",
   "execution_count": null,
   "metadata": {
    "id": "x-EHj1MxMqIC"
   },
   "outputs": [],
   "source": [
    "# Видалення рядків з відсутніми значеннями\n",
    "print(\"DataFrame після видалення рядків з NaN:\\n\", df_with_nan.dropna())"
   ]
  },
  {
   "cell_type": "code",
   "execution_count": null,
   "metadata": {
    "id": "YXfXjW89MqLS"
   },
   "outputs": [],
   "source": [
    "# Заповнення відсутніх значень\n",
    "print(\"DataFrame після заповнення NaN нулями:\\n\", df_with_nan.fillna(0)) # inplace=False"
   ]
  },
  {
   "cell_type": "code",
   "execution_count": null,
   "metadata": {
    "id": "_SFnuHTpMqPF"
   },
   "outputs": [],
   "source": [
    "# Замінити конкретне значення\n",
    "print(\"DataFrame після заміни NaN на 99:\\n\", df_with_nan.replace(np.nan, 99))"
   ]
  },
  {
   "cell_type": "markdown",
   "metadata": {
    "id": "P8dfJhc_N4oJ"
   },
   "source": [
    "Як ефективно використовувати методи Pandas у ланцюжку:"
   ]
  },
  {
   "cell_type": "code",
   "execution_count": null,
   "metadata": {
    "id": "vkAdXjOSN5HR"
   },
   "outputs": [],
   "source": [
    "# Використання ланцюжка методів для фільтрації та обробки даних\n",
    "result = (df_with_nan.fillna(0)\n",
    "          .replace(0, -1)\n",
    "          .head()\n",
    "          )\n",
    "\n",
    "# result = df_with_nan.fillna(0).replace(0, -1).head()\n",
    "\n",
    "print(\"Результат ланцюжка методів:\\n\", result)"
   ]
  }
 ],
 "metadata": {
  "colab": {
   "provenance": []
  },
  "kernelspec": {
   "display_name": "Python 3",
   "name": "python3"
  },
  "language_info": {
   "name": "python"
  }
 },
 "nbformat": 4,
 "nbformat_minor": 0
}
